{ 
  "nbformat": 4,
  "nbformat_minor": 0,
  "metadata": {
    "colab": {
      "name": "httpreqs.ipynb",
      "provenance": [],
      "collapsed_sections": [
        "FYnU5SNrKr7M",
        "r18zkoYvLDQ-"
      ]
    },
    "kernelspec": {
      "name": "python3",
      "display_name": "Python 3"
    }
  },
  "cells": [
    {
      "cell_type": "markdown",
      "metadata": {
        "id": "FYnU5SNrKr7M",
        "colab_type": "text"
      },
      "source": [
        "# HTTP Requests to import data from the Web"
      ]
    },
    {
      "cell_type": "code",
      "metadata": {
        "id": "OkzI1HjSJv-Z",
        "colab_type": "code",
        "colab": {}
      },
      "source": [
        "from urllib.request import urlopen, Request"
      ],
      "execution_count": 0,
      "outputs": []
    },
    {
      "cell_type": "code",
      "metadata": {
        "id": "oPLYh0B9J7Ti",
        "colab_type": "code",
        "colab": {}
      },
      "source": [
        "url = 'https://rahulbordoloi.github.io/'\n",
        "request = Request(url)                              # send the request\n",
        "response = urlopen(request)                         # catch the response , returns a http response obj, which has an associated read method."
      ],
      "execution_count": 0,
      "outputs": []
    },
    {
      "cell_type": "code",
      "metadata": {
        "id": "lexgyYbGKGTX",
        "colab_type": "code",
        "colab": {}
      },
      "source": [
        "html = response.read()                              #returns the html as a string\n",
        "response.close()"
      ],
      "execution_count": 0,
      "outputs": []
    },
    {
      "cell_type": "code",
      "metadata": {
        "id": "6pM-NIcJKL5_",
        "colab_type": "code",
        "colab": {
          "base_uri": "https://localhost:8080/",
          "height": 35
        },
        "outputId": "1825796e-25bd-47ae-a522-0d95506abaa0"
      },
      "source": [
        "type(html)"
      ],
      "execution_count": 4,
      "outputs": [
        {
          "output_type": "execute_result",
          "data": {
            "text/plain": [
              "bytes"
            ]
          },
          "metadata": {
            "tags": []
          },
          "execution_count": 4
        }
      ]
    },
    {
      "cell_type": "code",
      "metadata": {
        "id": "uetEkhJBKNcZ",
        "colab_type": "code",
        "colab": {
          "base_uri": "https://localhost:8080/",
          "height": 55
        },
        "outputId": "67845293-3819-4dc0-9496-298d2e195372"
      },
      "source": [
        "html"
      ],
      "execution_count": 5,
      "outputs": [
        {
          "output_type": "execute_result",
          "data": {
            "text/plain": [
              "b'<!DOCTYPE html>\\r\\n<html>\\r\\n<title>Rahul\\'s Website</title>\\r\\n<!-- add icon link -->\\r\\n<link rel = \"icon\" href = \"images/thumb-1920-884857.jpg\",type = \"image/x-icon\"> \\r\\n\\r\\n<meta charset=\"UTF-8\">\\r\\n<meta name=\"viewport\" content=\"width=device-width, initial-scale=1\">\\r\\n<link rel=\"stylesheet\" href=\"https://www.w3schools.com/w3css/4/w3.css\">\\r\\n<link rel=\"stylesheet\" href=\"https://fonts.googleapis.com/css?family=Montserrat\">\\r\\n<link rel=\"stylesheet\" href=\"https://cdnjs.cloudflare.com/ajax/libs/font-awesome/4.7.0/css/font-awesome.min.css\">\\r\\n<style>\\r\\nbody, h1,h2,h3,h4,h5,h6 {font-family: \"Montserrat\", sans-serif}\\r\\n.w3-row-padding img {margin-bottom: 12px}\\r\\n/* Set the width of the sidebar to 120px */\\r\\n.w3-sidebar {width: 120px;background: #222;}\\r\\n/* Add a left margin to the \"page content\" that matches the width of the sidebar (120px) */\\r\\n#main {margin-left: 120px}\\r\\n/* Remove margins from \"page content\" on small screens */\\r\\n@media only screen and (max-width: 600px) {#main {margin-left: 0}}\\r\\n</style>\\r\\n<body class=\"w3-black\">\\r\\n\\r\\n<!-- Icon Bar (Sidebar - hidden on small screens) -->\\r\\n<nav class=\"w3-sidebar w3-bar-block w3-small w3-hide-small w3-center\">\\r\\n  <!-- Avatar image in top left corner -->\\r\\n  <img src=\"images/thumb-1920-884857.jpg\" style=\"width:100%\">\\r\\n  <a href=\"#\" class=\"w3-bar-item w3-button w3-padding-large w3-black\">\\r\\n    <i class=\"fa fa-home w3-large\"></i>\\r\\n    <p>HOME</p>\\r\\n  </a>\\r\\n  <a href=\"#about\" class=\"w3-bar-item w3-button w3-padding-large w3-hover-black\">\\r\\n    <i class=\"fa fa-user w3-large\"></i>\\r\\n    <p>ABOUT</p>\\r\\n  </a>\\r\\n  <a href=\"#experience\" class=\"w3-bar-item w3-button w3-padding-large w3-hover-black\">\\r\\n    <i class=\"fa fa-user w3-large\"></i>\\r\\n    <p>EXPERIENCE</p>\\r\\n  </a>\\r\\n  <a href=\"#projects\" class=\"w3-bar-item w3-button w3-padding-large w3-hover-black\">\\r\\n    <i class=\"fa fa-user w3-large\"></i>\\r\\n    <p>PROJECTS</p>\\r\\n  </a>\\r\\n  <a href=\"#blog\" class=\"w3-bar-item w3-button w3-padding-large w3-hover-black\">\\r\\n    <i class=\"fa fa-user w3-large\"></i>\\r\\n    <p>BLOG</p>\\r\\n  </a>\\r\\n  <a href=\"#contact\" class=\"w3-bar-item w3-button w3-padding-large w3-hover-black\">\\r\\n    <i class=\"fa fa-envelope w3-large\"></i>\\r\\n    <p>CONTACT</p>\\r\\n  </a>\\r\\n</nav>\\r\\n\\r\\n<!-- Navbar on small screens (Hidden on medium and large screens) -->\\r\\n<div class=\"w3-top w3-hide-large w3-hide-medium\" id=\"myNavbar\">\\r\\n  <div class=\"w3-bar w3-black w3-opacity w3-hover-opacity-off w3-center w3-small\">\\r\\n    <a href=\"#\" class=\"w3-bar-item w3-button\" style=\"width:25% !important\">HOME</a>\\r\\n    <a href=\"#about\" class=\"w3-bar-item w3-button\" style=\"width:25% !important\">ABOUT</a>\\r\\n    <a href=\"#experience\" class=\"w3-bar-item w3-button\" style=\"width:25% !important\">EXPERIENCE</a>\\r\\n    <a href=\"#projects\" class=\"w3-bar-item w3-button\" style=\"width:25% !important\">PROJECTS</a>\\r\\n    <a href=\"#blog\" class=\"w3-bar-item w3-button\" style=\"width:25% !important\">BLOG</a>\\r\\n    <a href=\"#contact\" class=\"w3-bar-item w3-button\" style=\"width:25% !important\">CONTACT</a>\\r\\n  </div>\\r\\n</div>\\r\\n\\r\\n<!-- Page Content -->\\r\\n<div class=\"w3-padding-large w3-animate-left\" id=\"main\">\\r\\n  <!-- Header/Home -->\\r\\n  <header class=\"w3-container w3-padding-32 w3-center w3-black\" id=\"home\">\\r\\n    <h1 class=\"w3-jumbo\"><span class=\"w3-hide-small\">I\\'m</span> Rahul Bordoloi.</h1>\\r\\n    <p>Machine Learning & Deep Learning Enthusiast.</p><br>\\r\\n    <img src=\"images/formal.jpg\" alt=\"boy\" class=\"w3-image\" width=\"300\" height=\"300\">\\r\\n  </header>\\r\\n\\r\\n  <!-- About Section -->\\r\\n  <div class=\"w3-content w3-justify w3-text-grey w3-padding-64\" id=\"about\">\\r\\n    <h2 class=\"w3-text-light-grey\">Introduction</h2>\\r\\n    <hr style=\"width:200px\" class=\"w3-opacity\">\\r\\n    <p>A Computer Science student seeking opportunities in the field of Data Science and Software Industry. Skilled in C++, Python, Machine Learning, Deep Learning, ASL and NLP. Willing to be proficient in creating Machine & Deep Learning models and algorithms and application of the acquired knowledge in solving practical problems.\\r\\n    <br>I\\'m currently a Computer Science Pre-Finalite Engineering Student at KIIT University, Bhubaneswar\\r\\n    <br>Other competent Skills: Competitive Coding, Algorithms, Database Management , Ethical Hacking with Network Security.\\r\\n    </p>\\r\\n    <ul class=\"about-info mt-4 px-md-0 px-2\">\\r\\n\\t\\t            \\t<li class=\"d-flex\"><span>Name:</span> <span>Rahul Bordoloi</span></li>\\r\\n\\t\\t            \\t<li class=\"d-flex\"><span>Date of Birth:</span> <span>April 29, 1999</span></li>\\r\\n\\t\\t            \\t<li class=\"d-flex\"><span>Address:</span> <span>Guwahati AS India</span></li>\\r\\n\\t\\t            \\t<li class=\"d-flex\"><span>Zip code:</span> <span>781019</span></li>\\r\\n\\t\\t            \\t<li class=\"d-flex\"><span>Email:</span> <span>rahulbordoloi24@gmail.com</span></li>\\r\\n\\t\\t            \\t<li class=\"d-flex\"><span>Phone: </span> <span>+91-98648-87529</span></li>\\r\\n\\t\\t</ul>\\r\\n    <p><a href=\"https://drive.google.com/file/d/1s4ft69JULX7VuMGR29MAVy5ZfMlapRvI/view?usp=sharing\" target=\\'_blank\\' class=\"w3-button w3-light-grey\"><i class=\"fa fa-arrow-down w3-margin-right\"></i>Download Resume</a></p>\\r\\n  <h3 class=\"w3-padding-16 w3-text-light-grey\">Main Skills</h3>\\r\\n  <h6 class=\"w3-padding-16 w3-text-light-grey\"><u>Proficiency</u></h6>\\r\\n    <p class=\"w3-wide\">Machine Learning</p>\\r\\n    <div class=\"w3-white\">\\r\\n      <div class=\"w3-dark-grey\" style=\"height:10px;width:90%\"></div>\\r\\n    </div>\\r\\n    <p class=\"w3-wide\">Deep Learning</p>\\r\\n    <div class=\"w3-white\">\\r\\n      <div class=\"w3-dark-grey\" style=\"height:10px;width:75%\"></div>\\r\\n    </div>\\r\\n    <p class=\"w3-wide\">Python Programming</p>\\r\\n    <div class=\"w3-white\">\\r\\n      <div class=\"w3-dark-grey\" style=\"height:10px;width:80%\"></div>\\r\\n    </div>\\r\\n    <p class=\"w3-wide\">C++</p>\\r\\n    <div class=\"w3-white\">\\r\\n      <div class=\"w3-dark-grey\" style=\"height:10px;width:90%\"></div>\\r\\n    </div>\\r\\n    <p class=\"w3-wide\">Competitive Coding</p>\\r\\n    <div class=\"w3-white\">\\r\\n      <div class=\"w3-dark-grey\" style=\"height:10px;width:75%\"></div>\\r\\n    </div>\\r\\n    <p class=\"w3-wide\">Ethical Hacking</p>\\r\\n    <div class=\"w3-white\">\\r\\n      <div class=\"w3-dark-grey\" style=\"height:10px;width:65%\"></div>\\r\\n    </div><br>\\r\\n    <h3 class=\"w3-padding-16 w3-text-light-grey\">Other Skills</h3>\\r\\n    <ul class=\"about-info mt-4 px-md-0 px-2\">\\r\\n\\t\\t            \\t<li class=\"d-flex\"><span>Natural Language Processing</span></li>\\r\\n                  <li class=\"d-flex\"><span>Data Structures</span></li>\\r\\n                  <li class=\"d-flex\"><span>DBMS</span></li>\\r\\n                \\t<li class=\"d-flex\"><span>C Programming</span></li>\\r\\n\\t\\t            \\t<li class=\"d-flex\"><span>Java Programming</span></li>\\r\\n\\t\\t            \\t<li class=\"d-flex\"><span>HTML, CSS</span></span></li>\\r\\n\\t\\t            \\t<li class=\"d-flex\"><span>MySQL</span></li>\\r\\n                  <li class=\"d-flex\"><span>Linux</span></li>\\r\\n                  <li class=\"d-flex\"><span>Algorithms</span></li>\\r\\n                  <li class=\"d-flex\"><span>Radio Frequency (RF)</span></li>\\r\\n\\t\\t            \\t<li class=\"d-flex\"><span>Team Management</span></li>\\r\\n                  <li class=\"d-flex\"><span>Strategic Human Resource Planning</span></li>\\r\\n\\t\\t</ul>\\r\\n    <br>\\r\\n\\r\\n    <div class=\"w3-row w3-center w3-padding-16 w3-section w3-light-grey\">\\r\\n      <div class=\"w3-quarter w3-section\">\\r\\n        <span class=\"w3-xlarge\">11+</span><br>\\r\\n        Projects Done\\r\\n      </div>\\r\\n      <div class=\"w3-quarter w3-section\">\\r\\n        <span class=\"w3-xlarge\">2+</span><br>\\r\\n        Internships Done\\r\\n      </div>\\r\\n      <div class=\"w3-quarter w3-section\">\\r\\n        <span class=\"w3-xlarge\">5</span><br>\\r\\n        Trainings Done\\r\\n      </div>\\r\\n      <div class=\"w3-quarter w3-section\">\\r\\n        <span class=\"w3-xlarge\">0+</span><br>\\r\\n        Researches Done\\r\\n      </div>\\r\\n    </div>\\r\\n    <center><p>+ denotes ongoing.</center>\\r\\n  </div>\\r\\n\\r\\n  <!-- Experience Section -->\\r\\n  <div class=\"w3-padding-64 w3-content w3-text-grey w3-animate-left\" id=\"experience\">\\r\\n    <h2 class=\"w3-text-light-grey\">Experience</h2>\\r\\n    <hr style=\"width:200px\" class=\"w3-opacity\"> \\r\\n    <h3 class=\"w3-padding-16 w3-text-light-grey\">Internships</h3>\\r\\n    <img src=\"images\\\\jpm.jpg\" alt=\"Avatar\" class=\"w3-left w3-circle w3-margin-right\" style=\"width:80px\">\\r\\n    <p><span class=\"w3-large w3-margin-right\"><b>Software Engineering Virtual Experience</b></span> Apr 2020</br>\\r\\n    <span class=\"w3-large w3-margin-right\">JPMorgan Chase & Co.</span></p>\\r\\n    <p>Throughout the virtual experience, I was been familiarized with JP Morgan Chase frameworks and solve a hypothetical request from the firm\\xe2\\x80\\x99s trading floor to analyze and visualize data in a new way. The Tasks included - <br>\\r\\n1. Interface with a stock price data feed and set up my system for analysis of Data. <br>\\r\\n2. Implement Perspective [JP Morgan Chase Framework] Open Source Code in Preparation for data visualization. <br>\\r\\n3.  Display data visually for Traders i.e. use Perspective to create the chart for the Traders\\' Dashboard for their ease.</p>\\r\\n    <p class=\"w3-medium\"><a href=\"https://drive.google.com/open?id=1DEH0_wz8sVtnyyxYdaHBoeOcsl5sspCG\" target=\"_blank\" class=\"w3-hover-text-green\">Certificate</a></p><br>\\r\\n\\r\\n    <img src=\"images\\\\airtel.png\" alt=\"Avatar\" class=\"w3-left w3-circle w3-margin-right\" style=\"width:80px\">\\r\\n    <p><span class=\"w3-large w3-margin-right\"><b>Summer Intern</b></span> May 2018 \\xe2\\x80\\x93 July 2018</br>\\r\\n    <span class=\"w3-large w3-margin-right\">Bharti Airtel</span></p>\\r\\n    <p>Worked under the Project of \"RF Optimization and Network Planning\", Bharti Airtel, NESA. Conducted thorough reviews of Tower Antenna operations to devise and deploy improvement strategies, facilitating consistent connection strength. Produced excel spreadsheets and updates with latest information with respect to Google Earth.</p>\\r\\n    <p class=\"w3-medium\"><a href=\"https://drive.google.com/open?id=1-016xPq8grtCXRpc3I0h1YdZL-m23xPO\" target=\"_blank\" class=\"w3-hover-text-green\">Certificate</a></p><br>\\r\\n\\r\\n    <h3 class=\"w3-padding-16 w3-text-light-grey\">Certifications & Trainings</h3>\\r\\n    <span class=\"w3-large w3-margin-right\">\\r\\n    <ul>\\r\\n      <li>Certified Secure Computer User (C/SCU) - EC-Council <a href=\"https://drive.google.com/file/d/1tuJTyf3yqi4rEjGGk6_joJxkRGGEeWym/view?usp=sharing\" target=\"_blank\" class=\"w3-hover-text-green\">(ECC7409865123)</a>\\r\\n      <li>Ethical Hacking with Network Secuirty - Ritusha Consultants Pvt Ltd <a href=\"https://drive.google.com/open?id=1zdtRaRBKyJW7bHGD-D03-T-ly_gI7KPC\" target=\"_blank\" class=\"w3-hover-text-green\">(655EB7FC1D)</a>\\r\\n      <li>Python Programming Track - DataCamp <a href=\"https://drive.google.com/open?id=1R7TdQEiKKnHS8BZKin3EMVkjRnfBukMJ\" target=\"_blank\" class=\"w3-hover-text-green\">(655EB7FC1D)</a>\\r\\n      <li>Machine Learning in Python - Udemy\\r\\n      <li>Deep Learning Specialization- Coursera <a href=\"https://coursera.org/share/3203641f8de561e0863add4cc0e88aff\" target=\"_blank\" class=\"w3-hover-text-green\">(Z9RR3D5655UL)</a>\\r\\n    </ul>\\r\\n    </span>\\r\\n\\r\\n    <h3 class=\"w3-padding-16 w3-text-light-grey\">Groups & Organisations</h3>\\r\\n    <img src=\"images\\\\sds.png\" alt=\"Avatar\" class=\"w3-left w3-circle w3-margin-right\" style=\"width:80px\">\\r\\n    <p><span class=\"w3-large w3-margin-right\"><b>Freelance Member</b></span> Dec 2019 \\xe2\\x80\\x93 Present.</br>\\r\\n    <span class=\"w3-large w3-margin-right\">SuperDataScience</span></p>\\r\\n    <p>Freelancer ML-DL Project Researcher.</p><br>\\r\\n    <img src=\"images\\\\kr.png\" alt=\"Avatar\" class=\"w3-left w3-circle w3-margin-right\" style=\"width:80px\">\\r\\n    <p><span class=\"w3-large w3-margin-right\"><b>Member</b></span> Oct 2017 \\xe2\\x80\\x93 Present.</br>\\r\\n    <span class=\"w3-large w3-margin-right\">Koderunners</span></p>\\r\\n    <p>Competitive Coding Group: C++, Python</p><br>\\r\\n  </div>\\r\\n  <!-- End Experience Section -->\\r\\n  \\r\\n  <!-- Projects Section -->\\r\\n  <div class=\"w3-padding-64 w3-content w3-text-grey w3-animate-left\" id=\"projects\">\\r\\n    <h2 class=\"w3-text-light-grey\">Projects</h2>\\r\\n    <hr style=\"width:200px\" class=\"w3-opacity\"></br></br>\\r\\n    <img src=\"images\\\\chatbot.jpg\" alt=\"Avatar\" class=\"w3-left w3-circle w3-margin-right\" style=\"width:80px\">\\r\\n    <p><span class=\"w3-large w3-margin-right\"><b>CovidBot</b></span> May 2020 \\xe2\\x80\\x93 Present.</p>\\r\\n    <p>A Simple Static Bot/Agent which will act as a guide for self assessment of probable risks from corona virus and increase awareness about the pandemic.\\r\\n    <!--<br>Technologies Being Used : Data Mining, Machine Learning, Full Stack Development, Flutter</p><br>-->\\r\\n    <p class=\"w3-medium\"><a href=\"https://github.com/rahulbordoloi/CovidBot.git\" target=\"_blank\" class=\"w3-hover-text-green\">Project Link</a></p><br>\\r\\n\\r\\n    <img src=\"images\\\\kiit.jpg\" alt=\"Avatar\" class=\"w3-left w3-circle w3-margin-right\" style=\"width:80px\">\\r\\n    <p><span class=\"w3-large w3-margin-right\"><b>Enhanced Analytic System for Smart University Assistance</b></span> Jan 2020 \\xe2\\x80\\x93 Present.</p>\\r\\n    <p>An Ongoing Project, a part of the Academic Minor Project of the 6th semester.<br>This project aims to ease the daily routine queries and difficulties faced by students new to the KIIT campus. It would ensure the prediction of the professions that can be pursued by young aspiring engineering students after completion of the course. Also, it would help the college authorities to automate the counselling process [branch selection] with ease.\\r\\n    <br>Technologies Being Used : Data Mining, Machine Learning, Full Stack Development, Flutter</p><br>\\r\\n\\r\\n    <img src=\"images\\\\dl.png\" alt=\"Avatar\" class=\"w3-left w3-circle w3-margin-right\" style=\"width:80px\">\\r\\n    <p><span class=\"w3-large w3-margin-right\"><b>CIFAR 10 Images Classification</b></span> Mar 2020 \\xe2\\x80\\x93 Apr 2020</p>\\r\\n    <p>A Basic Deep Learning Project using CNN.<br>1> CIFAR-10 is a dataset that consists of several images divided into the following 10 classes: Airplanes, Cars, Birds, Cats, Deer, Dogs, Frogs, Horses, Ships, Trucks.<br>2> The dataset consists of 60,000 32x32 color images and 6,000 images of each class.<br>\\r\\n3> The Images have low resolution (32x32).<br>To Predict : The Type/Class of Image Provided.\\r\\n<br>\\r\\n<p class=\"w3-medium\"><a href=\"https://github.com/rahulbordoloi/CiFAR-10-Images-Classification.git\" target=\"_blank\" class=\"w3-hover-text-green\">Project Link</a></p><br>\\r\\n\\r\\n    <img src=\"images\\\\ml.png\" alt=\"Avatar\" class=\"w3-left w3-circle w3-margin-right\" style=\"width:80px\">\\r\\n    <p><span class=\"w3-large w3-margin-right\"><b>Classifying YELP Reviews</b></span> Apr 2020</p>\\r\\n    <p>A Basic Machine Learning Project using NLP.</br> \\r\\n    In this project, Natural Language Processing (NLP) strategies will be used to analyze Yelp reviews data. Yelp is a similar platform as that of Google Reviews.\\r\\n</br>To Predict : If the customer is satisfied/happy with the services or not.\\r\\n    <p class=\"w3-medium\"><a href=\"https://github.com/rahulbordoloi/Classifying-YELP-Reviews-using-NLP.git\" target=\"_blank\" class=\"w3-hover-text-green\">Project Link</a></p><br>\\r\\n\\r\\n    <img src=\"images\\\\ml.png\" alt=\"Avatar\" class=\"w3-left w3-circle w3-margin-right\" style=\"width:80px\">\\r\\n    <p><span class=\"w3-large w3-margin-right\"><b>Email/Message Spam Classifier</b></span> Apr 2020</p>\\r\\n    <p>A Basic Machine Learning using Naive Bayes\\' Algorithm (NLP)</br>\\r\\nThe SMS Spam Collection is a set of SMS tagged messages that have been collected for SMS Spam research. It contains one set of SMS messages in English of 5,574 messages, tagged according being ham (legitimate) or spam.\\r\\n</br>To Predict: If an email/message is spam or ham.</p>\\r\\n    <p class=\"w3-medium\"><a href=\"https://github.com/rahulbordoloi/Spam-Classifier-using-Naive-Bayes.git\" target=\"_blank\" class=\"w3-hover-text-green\">Project Link</a></p><br>\\r\\n \\r\\n    <img src=\"images\\\\ml.png\" alt=\"Avatar\" class=\"w3-left w3-circle w3-margin-right\" style=\"width:80px\">\\r\\n    <p><span class=\"w3-large w3-margin-right\"><b>Movie Recommender System</b></span> Apr 2020</p>\\r\\n    <p>Implementing a Simple Movie Recommender System using Item-Based Collaborative Filtering</br>\\r\\nRecommender systems are used to suggest movies or songs to users based on their interest or usage history.\\r\\n</br>To Predict : Recommend Movies based on User\\'s recently watched Movies\\' Ratings.</p>\\r\\n    <p class=\"w3-medium\"><a href=\"https://github.com/rahulbordoloi/Simple-Movie-Recommender-System.git\" target=\"_blank\" class=\"w3-hover-text-green\">Project Link</a></p><br>\\r\\n\\r\\n    <img src=\"images\\\\ml.png\" alt=\"Avatar\" class=\"w3-left w3-circle w3-margin-right\" style=\"width:80px\">\\r\\n    <p><span class=\"w3-large w3-margin-right\"><b>Avocado Prices Prediction [Using Facebook Prophet]</b></span> Mar 2020</p>\\r\\n    <p>A Simple Machine Learning Project using Facebook Prophet Forecasting</br>\\r\\n1> Data represents weekly 2018 retail scan data for National retail volume (units) and price.<br>\\r\\n2> Retail scan data comes directly from retailers\\xe2\\x80\\x99 cash registers based on actual retail sales of Hass avocados.\\r\\n</br>To Predict : Price of Avocado over a certain period along with its trends and bounds.</p>\\r\\n    <p class=\"w3-medium\"><a href=\"https://github.com/rahulbordoloi/Avocado-Prices-Prediction-using-Facebook-Prophet-.git\" target=\"_blank\" class=\"w3-hover-text-green\">Project Link</a></p><br>\\r\\n\\r\\n    <img src=\"images\\\\dl.png\" alt=\"Avatar\" class=\"w3-left w3-circle w3-margin-right\" style=\"width:80px\">\\r\\n    <p><span class=\"w3-large w3-margin-right\"><b>Car Purchase Amount Prediction</b></span> Mar 2020</p>\\r\\n    <p>A Basic Deep Learning Project using Artificial Neural Network.</br>\\r\\nWe are working as a car salesman and we would like to develop a model to predict the total dollar amount that customers are willing to pay given some features.\\r\\n</br>To Predict : Car Purchase Amount</p>\\r\\n    <p class=\"w3-medium\"><a href=\"https://github.com/rahulbordoloi/Car-Purchase-Amount-Predictions-using-ANN.git\" target=\"_blank\" class=\"w3-hover-text-green\">Project Link</a></p><br>\\r\\n\\r\\n    <img src=\"images\\\\ml.png\" alt=\"Avatar\" class=\"w3-left w3-circle w3-margin-right\" style=\"width:80px\">\\r\\n    <p><span class=\"w3-large w3-margin-right\"><b>Predicting Crime Rate in Chicago</b></span> Mar 2020</p>\\r\\n    <p>A Simple Machine Learning Project using Facebook Prophet Forecasting.</br>\\r\\nThe Chicago Crime dataset contains a summary of the reported crimes occurred in the City of Chicago from 2001 to 2017.\\r\\n</br>To Predict : Future Crime Rate over a certain period along with its trends and bounds.</p>\\r\\n<p class=\"w3-medium\"><a href=\"https://github.com/rahulbordoloi/Predict-Crime-Rate-in-Chicago.git\" target=\"_blank\" class=\"w3-hover-text-green\">Project Link</a></p><br>\\r\\n\\r\\n    <img src=\"images\\\\dl.png\" alt=\"Avatar\" class=\"w3-left w3-circle w3-margin-right\" style=\"width:80px\">\\r\\n    <p><span class=\"w3-large w3-margin-right\"><b>Traffic Sign Classification</b></span> Mar 2020</p>\\r\\n    <p>A Basic Deep Learning Project using Keras as Tensorflow Backend.</br>\\r\\nThis Simple Project is the foundation of Self-Driving Cars.\\r\\nIn this Project, we have been provided with images of traffic signs and the goal is to train a Deep Network to classify them. The Network used is called Le-Net Network which is a part of Convolutional Neural Networks. \\r\\n</br>To Predict : The Type/Class of Traffic Sign Provided</p>\\r\\n<p class=\"w3-medium\"><a href=\"https://github.com/rahulbordoloi/Traffic-Sign-Classification-Using-LeNet-Network.git\" target=\"_blank\" class=\"w3-hover-text-green\">Project Link</a></p><br>\\r\\n\\r\\n<img src=\"images\\\\ssa.png\" alt=\"Avatar\" class=\"w3-left w3-circle w3-margin-right\" style=\"width:80px\">\\r\\n <p><span class=\"w3-large w3-margin-right\"><b>Railway Reservation System</b></span> Dec 2016 - Feb 2017</p>\\r\\n<p>Automation of Railway Reservation System using C++.</br>\\r\\nA Project Report Submitted To The Department of Computer Science, Shrimanta Shankar Academy, Dispur For The Partial Fulfillment of AISSCE 2016-17 In Science Stream.</p>\\r\\n<p class=\"w3-medium\"><a href=\"https://github.com/rahulbordoloi/Railway-Reservation-System.git\" target=\"_blank\" class=\"w3-hover-text-green\">Project Link</a></p><br>\\r\\n  </div>\\r\\n  <!-- End Projects Section -->\\r\\n\\r\\n  <!-- Blog Section -->\\r\\n  <div class=\"w3-padding-64 w3-content w3-text-grey w3-animate-left\" id=\"blog\">\\r\\n    <h2 class=\"w3-text-light-grey\">Blog</h2>\\r\\n    <hr style=\"width:200px\" class=\"w3-opacity\">\\r\\n    <p>No Blogs Yet ...</p>\\r\\n  </div>\\r\\n  <!-- End Blog Section -->\\r\\n\\r\\n  <!-- Contact Section -->\\r\\n  <div class=\"w3-padding-64 w3-content w3-text-grey w3-animate-left\" id=\"contact\">\\r\\n    <h2 class=\"w3-text-light-grey\">Contact Me</h2>\\r\\n    <hr style=\"width:200px\" class=\"w3-opacity\">\\r\\n    <div class=\"w3-section\">\\r\\n      <p><i class=\"fa fa-map-marker fa-fw w3-text-white w3-xlarge w3-margin-right\"></i>Guwahati, India</p>\\r\\n      <p><i class=\"fa fa-phone fa-fw w3-text-white w3-xlarge w3-margin-right\"></i> Phone: +91 9864887529</p>\\r\\n      <p><i class=\"fa fa-envelope fa-fw w3-text-white w3-xlarge w3-margin-right\"> </i> Primary Email: rahulbordoloi24@gmail.com</p>\\r\\n      <p><i class=\"fa fa-envelope fa-fw w3-text-white w3-xlarge w3-margin-right\"> </i> Secondary Email: 1729048@kiit.ac.in</p>\\r\\n    </div><br>\\r\\n    <h4 class=\"w3-text-light-grey\">My Professional Profiles:</h4>\\r\\n  <ul>\\r\\n    <li><p class=\"w3-medium\">Linkedin :       <a href=\"https://www.linkedin.com/in/rahulbordoloi/\"><i class=\"fa fa-linkedin w3-hover-opacity w3-xlarge\"></i></a></li>\\r\\n    <li><p class=\"w3-medium\">Github :      <a href=\"https://github.com/rahulbordoloi\"><i class=\"fa fa-github w3-hover-opacity w3-xlarge\"></i></a></li>\\r\\n    <li><p class=\"w3-medium\">Telegram :      <a href=\"https://t.me/rahulbordoloi\"><i class=\"fa fa-telegram w3-hover-opacity w3-xlarge\"></i></a></li>\\r\\n  </ul>\\r\\n  </div>\\r\\n  <!-- End Contact Section -->\\r\\n  <center class=\\'w3-hover-text-green\\'><br><h3>Thanks for visiting my website!</h3></center>\\r\\n\\r\\n\\r\\n<!-- END PAGE CONTENT -->\\r\\n</div>\\r\\n<!-- Footer -->\\r\\n  <footer class=\"w3-content w3-padding-64 w3-text-grey w3-xlarge\">\\r\\n  <center>\\r\\n    <a href=\"#\" class=\"w3-button w3-light-grey\"><i class=\"fa fa-arrow-up w3-margin-right\"></i>To the top</a>\\r\\n    <p class=\"w3-medium\">Designed by <a href=\"https://rahulbordoloi.github.io\" target=\"_blank\" class=\"w3-hover-text-green\">Rahul Bordoloi</a></p>\\r\\n    <p class=\"w3-medium\">Reference From <a href=\"https://www.w3schools.com/w3css/default.asp\" target=\"_blank\" class=\"w3-hover-text-green\">w3.css</a></p>\\r\\n  <!-- End footer -->\\r\\n  </center>\\r\\n  </footer>\\r\\n\\r\\n</body>\\r\\n</html>\\r\\n\\r\\n'"
            ]
          },
          "metadata": {
            "tags": []
          },
          "execution_count": 5
        }
      ]
    },
    {
      "cell_type": "code",
      "metadata": {
        "id": "8ItRsw6GK2om",
        "colab_type": "code",
        "colab": {
          "base_uri": "https://localhost:8080/",
          "height": 35
        },
        "outputId": "deca1f95-c700-49da-ff91-6f90ee056857"
      },
      "source": [
        "request"
      ],
      "execution_count": 6,
      "outputs": [
        {
          "output_type": "execute_result",
          "data": {
            "text/plain": [
              "<urllib.request.Request at 0x7f004d3b3128>"
            ]
          },
          "metadata": {
            "tags": []
          },
          "execution_count": 6
        }
      ]
    },
    {
      "cell_type": "code",
      "metadata": {
        "id": "vsZ_PEstK3Uj",
        "colab_type": "code",
        "colab": {
          "base_uri": "https://localhost:8080/",
          "height": 35
        },
        "outputId": "b792ad81-7aa1-4a24-ecee-e0064b2af2fa"
      },
      "source": [
        "response"
      ],
      "execution_count": 7,
      "outputs": [
        {
          "output_type": "execute_result",
          "data": {
            "text/plain": [
              "<http.client.HTTPResponse at 0x7f004d3b37b8>"
            ]
          },
          "metadata": {
            "tags": []
          },
          "execution_count": 7
        }
      ]
    },
    {
      "cell_type": "markdown",
      "metadata": {
        "id": "r18zkoYvLDQ-",
        "colab_type": "text"
      },
      "source": [
        "# GET Requests using requests"
      ]
    },
    {
      "cell_type": "code",
      "metadata": {
        "id": "i_jntCb5LGai",
        "colab_type": "code",
        "colab": {}
      },
      "source": [
        "import requests"
      ],
      "execution_count": 0,
      "outputs": []
    },
    {
      "cell_type": "code",
      "metadata": {
        "id": "ApKHxC2bLJJv",
        "colab_type": "code",
        "colab": {}
      },
      "source": [
        "url = 'https://rahulbordoloi.github.io/'\n",
        "r = requests.get(url)                          # package the request, send the request and catch the response\n",
        "text = r.text                                  # text method to the method returns the HTML as a string."
      ],
      "execution_count": 0,
      "outputs": []
    },
    {
      "cell_type": "code",
      "metadata": {
        "id": "gnVyXHtbLoNZ",
        "colab_type": "code",
        "colab": {
          "base_uri": "https://localhost:8080/",
          "height": 35
        },
        "outputId": "1df3c1e5-cae1-4d2d-926a-ce825436c00f"
      },
      "source": [
        "r"
      ],
      "execution_count": 12,
      "outputs": [
        {
          "output_type": "execute_result",
          "data": {
            "text/plain": [
              "<Response [200]>"
            ]
          },
          "metadata": {
            "tags": []
          },
          "execution_count": 12
        }
      ]
    },
    {
      "cell_type": "code",
      "metadata": {
        "id": "2DDrqtyRLo-S",
        "colab_type": "code",
        "colab": {
          "base_uri": "https://localhost:8080/",
          "height": 55
        },
        "outputId": "c31a0a52-cfe5-4e02-b752-9963841e0b71"
      },
      "source": [
        "text"
      ],
      "execution_count": 13,
      "outputs": [
        {
          "output_type": "execute_result",
          "data": {
            "text/plain": [
              "'<!DOCTYPE html>\\r\\n<html>\\r\\n<title>Rahul\\'s Website</title>\\r\\n<!-- add icon link -->\\r\\n<link rel = \"icon\" href = \"images/thumb-1920-884857.jpg\",type = \"image/x-icon\"> \\r\\n\\r\\n<meta charset=\"UTF-8\">\\r\\n<meta name=\"viewport\" content=\"width=device-width, initial-scale=1\">\\r\\n<link rel=\"stylesheet\" href=\"https://www.w3schools.com/w3css/4/w3.css\">\\r\\n<link rel=\"stylesheet\" href=\"https://fonts.googleapis.com/css?family=Montserrat\">\\r\\n<link rel=\"stylesheet\" href=\"https://cdnjs.cloudflare.com/ajax/libs/font-awesome/4.7.0/css/font-awesome.min.css\">\\r\\n<style>\\r\\nbody, h1,h2,h3,h4,h5,h6 {font-family: \"Montserrat\", sans-serif}\\r\\n.w3-row-padding img {margin-bottom: 12px}\\r\\n/* Set the width of the sidebar to 120px */\\r\\n.w3-sidebar {width: 120px;background: #222;}\\r\\n/* Add a left margin to the \"page content\" that matches the width of the sidebar (120px) */\\r\\n#main {margin-left: 120px}\\r\\n/* Remove margins from \"page content\" on small screens */\\r\\n@media only screen and (max-width: 600px) {#main {margin-left: 0}}\\r\\n</style>\\r\\n<body class=\"w3-black\">\\r\\n\\r\\n<!-- Icon Bar (Sidebar - hidden on small screens) -->\\r\\n<nav class=\"w3-sidebar w3-bar-block w3-small w3-hide-small w3-center\">\\r\\n  <!-- Avatar image in top left corner -->\\r\\n  <img src=\"images/thumb-1920-884857.jpg\" style=\"width:100%\">\\r\\n  <a href=\"#\" class=\"w3-bar-item w3-button w3-padding-large w3-black\">\\r\\n    <i class=\"fa fa-home w3-large\"></i>\\r\\n    <p>HOME</p>\\r\\n  </a>\\r\\n  <a href=\"#about\" class=\"w3-bar-item w3-button w3-padding-large w3-hover-black\">\\r\\n    <i class=\"fa fa-user w3-large\"></i>\\r\\n    <p>ABOUT</p>\\r\\n  </a>\\r\\n  <a href=\"#experience\" class=\"w3-bar-item w3-button w3-padding-large w3-hover-black\">\\r\\n    <i class=\"fa fa-user w3-large\"></i>\\r\\n    <p>EXPERIENCE</p>\\r\\n  </a>\\r\\n  <a href=\"#projects\" class=\"w3-bar-item w3-button w3-padding-large w3-hover-black\">\\r\\n    <i class=\"fa fa-user w3-large\"></i>\\r\\n    <p>PROJECTS</p>\\r\\n  </a>\\r\\n  <a href=\"#blog\" class=\"w3-bar-item w3-button w3-padding-large w3-hover-black\">\\r\\n    <i class=\"fa fa-user w3-large\"></i>\\r\\n    <p>BLOG</p>\\r\\n  </a>\\r\\n  <a href=\"#contact\" class=\"w3-bar-item w3-button w3-padding-large w3-hover-black\">\\r\\n    <i class=\"fa fa-envelope w3-large\"></i>\\r\\n    <p>CONTACT</p>\\r\\n  </a>\\r\\n</nav>\\r\\n\\r\\n<!-- Navbar on small screens (Hidden on medium and large screens) -->\\r\\n<div class=\"w3-top w3-hide-large w3-hide-medium\" id=\"myNavbar\">\\r\\n  <div class=\"w3-bar w3-black w3-opacity w3-hover-opacity-off w3-center w3-small\">\\r\\n    <a href=\"#\" class=\"w3-bar-item w3-button\" style=\"width:25% !important\">HOME</a>\\r\\n    <a href=\"#about\" class=\"w3-bar-item w3-button\" style=\"width:25% !important\">ABOUT</a>\\r\\n    <a href=\"#experience\" class=\"w3-bar-item w3-button\" style=\"width:25% !important\">EXPERIENCE</a>\\r\\n    <a href=\"#projects\" class=\"w3-bar-item w3-button\" style=\"width:25% !important\">PROJECTS</a>\\r\\n    <a href=\"#blog\" class=\"w3-bar-item w3-button\" style=\"width:25% !important\">BLOG</a>\\r\\n    <a href=\"#contact\" class=\"w3-bar-item w3-button\" style=\"width:25% !important\">CONTACT</a>\\r\\n  </div>\\r\\n</div>\\r\\n\\r\\n<!-- Page Content -->\\r\\n<div class=\"w3-padding-large w3-animate-left\" id=\"main\">\\r\\n  <!-- Header/Home -->\\r\\n  <header class=\"w3-container w3-padding-32 w3-center w3-black\" id=\"home\">\\r\\n    <h1 class=\"w3-jumbo\"><span class=\"w3-hide-small\">I\\'m</span> Rahul Bordoloi.</h1>\\r\\n    <p>Machine Learning & Deep Learning Enthusiast.</p><br>\\r\\n    <img src=\"images/formal.jpg\" alt=\"boy\" class=\"w3-image\" width=\"300\" height=\"300\">\\r\\n  </header>\\r\\n\\r\\n  <!-- About Section -->\\r\\n  <div class=\"w3-content w3-justify w3-text-grey w3-padding-64\" id=\"about\">\\r\\n    <h2 class=\"w3-text-light-grey\">Introduction</h2>\\r\\n    <hr style=\"width:200px\" class=\"w3-opacity\">\\r\\n    <p>A Computer Science student seeking opportunities in the field of Data Science and Software Industry. Skilled in C++, Python, Machine Learning, Deep Learning, ASL and NLP. Willing to be proficient in creating Machine & Deep Learning models and algorithms and application of the acquired knowledge in solving practical problems.\\r\\n    <br>I\\'m currently a Computer Science Pre-Finalite Engineering Student at KIIT University, Bhubaneswar\\r\\n    <br>Other competent Skills: Competitive Coding, Algorithms, Database Management , Ethical Hacking with Network Security.\\r\\n    </p>\\r\\n    <ul class=\"about-info mt-4 px-md-0 px-2\">\\r\\n\\t\\t            \\t<li class=\"d-flex\"><span>Name:</span> <span>Rahul Bordoloi</span></li>\\r\\n\\t\\t            \\t<li class=\"d-flex\"><span>Date of Birth:</span> <span>April 29, 1999</span></li>\\r\\n\\t\\t            \\t<li class=\"d-flex\"><span>Address:</span> <span>Guwahati AS India</span></li>\\r\\n\\t\\t            \\t<li class=\"d-flex\"><span>Zip code:</span> <span>781019</span></li>\\r\\n\\t\\t            \\t<li class=\"d-flex\"><span>Email:</span> <span>rahulbordoloi24@gmail.com</span></li>\\r\\n\\t\\t            \\t<li class=\"d-flex\"><span>Phone: </span> <span>+91-98648-87529</span></li>\\r\\n\\t\\t</ul>\\r\\n    <p><a href=\"https://drive.google.com/file/d/1s4ft69JULX7VuMGR29MAVy5ZfMlapRvI/view?usp=sharing\" target=\\'_blank\\' class=\"w3-button w3-light-grey\"><i class=\"fa fa-arrow-down w3-margin-right\"></i>Download Resume</a></p>\\r\\n  <h3 class=\"w3-padding-16 w3-text-light-grey\">Main Skills</h3>\\r\\n  <h6 class=\"w3-padding-16 w3-text-light-grey\"><u>Proficiency</u></h6>\\r\\n    <p class=\"w3-wide\">Machine Learning</p>\\r\\n    <div class=\"w3-white\">\\r\\n      <div class=\"w3-dark-grey\" style=\"height:10px;width:90%\"></div>\\r\\n    </div>\\r\\n    <p class=\"w3-wide\">Deep Learning</p>\\r\\n    <div class=\"w3-white\">\\r\\n      <div class=\"w3-dark-grey\" style=\"height:10px;width:75%\"></div>\\r\\n    </div>\\r\\n    <p class=\"w3-wide\">Python Programming</p>\\r\\n    <div class=\"w3-white\">\\r\\n      <div class=\"w3-dark-grey\" style=\"height:10px;width:80%\"></div>\\r\\n    </div>\\r\\n    <p class=\"w3-wide\">C++</p>\\r\\n    <div class=\"w3-white\">\\r\\n      <div class=\"w3-dark-grey\" style=\"height:10px;width:90%\"></div>\\r\\n    </div>\\r\\n    <p class=\"w3-wide\">Competitive Coding</p>\\r\\n    <div class=\"w3-white\">\\r\\n      <div class=\"w3-dark-grey\" style=\"height:10px;width:75%\"></div>\\r\\n    </div>\\r\\n    <p class=\"w3-wide\">Ethical Hacking</p>\\r\\n    <div class=\"w3-white\">\\r\\n      <div class=\"w3-dark-grey\" style=\"height:10px;width:65%\"></div>\\r\\n    </div><br>\\r\\n    <h3 class=\"w3-padding-16 w3-text-light-grey\">Other Skills</h3>\\r\\n    <ul class=\"about-info mt-4 px-md-0 px-2\">\\r\\n\\t\\t            \\t<li class=\"d-flex\"><span>Natural Language Processing</span></li>\\r\\n                  <li class=\"d-flex\"><span>Data Structures</span></li>\\r\\n                  <li class=\"d-flex\"><span>DBMS</span></li>\\r\\n                \\t<li class=\"d-flex\"><span>C Programming</span></li>\\r\\n\\t\\t            \\t<li class=\"d-flex\"><span>Java Programming</span></li>\\r\\n\\t\\t            \\t<li class=\"d-flex\"><span>HTML, CSS</span></span></li>\\r\\n\\t\\t            \\t<li class=\"d-flex\"><span>MySQL</span></li>\\r\\n                  <li class=\"d-flex\"><span>Linux</span></li>\\r\\n                  <li class=\"d-flex\"><span>Algorithms</span></li>\\r\\n                  <li class=\"d-flex\"><span>Radio Frequency (RF)</span></li>\\r\\n\\t\\t            \\t<li class=\"d-flex\"><span>Team Management</span></li>\\r\\n                  <li class=\"d-flex\"><span>Strategic Human Resource Planning</span></li>\\r\\n\\t\\t</ul>\\r\\n    <br>\\r\\n\\r\\n    <div class=\"w3-row w3-center w3-padding-16 w3-section w3-light-grey\">\\r\\n      <div class=\"w3-quarter w3-section\">\\r\\n        <span class=\"w3-xlarge\">11+</span><br>\\r\\n        Projects Done\\r\\n      </div>\\r\\n      <div class=\"w3-quarter w3-section\">\\r\\n        <span class=\"w3-xlarge\">2+</span><br>\\r\\n        Internships Done\\r\\n      </div>\\r\\n      <div class=\"w3-quarter w3-section\">\\r\\n        <span class=\"w3-xlarge\">5</span><br>\\r\\n        Trainings Done\\r\\n      </div>\\r\\n      <div class=\"w3-quarter w3-section\">\\r\\n        <span class=\"w3-xlarge\">0+</span><br>\\r\\n        Researches Done\\r\\n      </div>\\r\\n    </div>\\r\\n    <center><p>+ denotes ongoing.</center>\\r\\n  </div>\\r\\n\\r\\n  <!-- Experience Section -->\\r\\n  <div class=\"w3-padding-64 w3-content w3-text-grey w3-animate-left\" id=\"experience\">\\r\\n    <h2 class=\"w3-text-light-grey\">Experience</h2>\\r\\n    <hr style=\"width:200px\" class=\"w3-opacity\"> \\r\\n    <h3 class=\"w3-padding-16 w3-text-light-grey\">Internships</h3>\\r\\n    <img src=\"images\\\\jpm.jpg\" alt=\"Avatar\" class=\"w3-left w3-circle w3-margin-right\" style=\"width:80px\">\\r\\n    <p><span class=\"w3-large w3-margin-right\"><b>Software Engineering Virtual Experience</b></span> Apr 2020</br>\\r\\n    <span class=\"w3-large w3-margin-right\">JPMorgan Chase & Co.</span></p>\\r\\n    <p>Throughout the virtual experience, I was been familiarized with JP Morgan Chase frameworks and solve a hypothetical request from the firm’s trading floor to analyze and visualize data in a new way. The Tasks included - <br>\\r\\n1. Interface with a stock price data feed and set up my system for analysis of Data. <br>\\r\\n2. Implement Perspective [JP Morgan Chase Framework] Open Source Code in Preparation for data visualization. <br>\\r\\n3.  Display data visually for Traders i.e. use Perspective to create the chart for the Traders\\' Dashboard for their ease.</p>\\r\\n    <p class=\"w3-medium\"><a href=\"https://drive.google.com/open?id=1DEH0_wz8sVtnyyxYdaHBoeOcsl5sspCG\" target=\"_blank\" class=\"w3-hover-text-green\">Certificate</a></p><br>\\r\\n\\r\\n    <img src=\"images\\\\airtel.png\" alt=\"Avatar\" class=\"w3-left w3-circle w3-margin-right\" style=\"width:80px\">\\r\\n    <p><span class=\"w3-large w3-margin-right\"><b>Summer Intern</b></span> May 2018 – July 2018</br>\\r\\n    <span class=\"w3-large w3-margin-right\">Bharti Airtel</span></p>\\r\\n    <p>Worked under the Project of \"RF Optimization and Network Planning\", Bharti Airtel, NESA. Conducted thorough reviews of Tower Antenna operations to devise and deploy improvement strategies, facilitating consistent connection strength. Produced excel spreadsheets and updates with latest information with respect to Google Earth.</p>\\r\\n    <p class=\"w3-medium\"><a href=\"https://drive.google.com/open?id=1-016xPq8grtCXRpc3I0h1YdZL-m23xPO\" target=\"_blank\" class=\"w3-hover-text-green\">Certificate</a></p><br>\\r\\n\\r\\n    <h3 class=\"w3-padding-16 w3-text-light-grey\">Certifications & Trainings</h3>\\r\\n    <span class=\"w3-large w3-margin-right\">\\r\\n    <ul>\\r\\n      <li>Certified Secure Computer User (C/SCU) - EC-Council <a href=\"https://drive.google.com/file/d/1tuJTyf3yqi4rEjGGk6_joJxkRGGEeWym/view?usp=sharing\" target=\"_blank\" class=\"w3-hover-text-green\">(ECC7409865123)</a>\\r\\n      <li>Ethical Hacking with Network Secuirty - Ritusha Consultants Pvt Ltd <a href=\"https://drive.google.com/open?id=1zdtRaRBKyJW7bHGD-D03-T-ly_gI7KPC\" target=\"_blank\" class=\"w3-hover-text-green\">(655EB7FC1D)</a>\\r\\n      <li>Python Programming Track - DataCamp <a href=\"https://drive.google.com/open?id=1R7TdQEiKKnHS8BZKin3EMVkjRnfBukMJ\" target=\"_blank\" class=\"w3-hover-text-green\">(655EB7FC1D)</a>\\r\\n      <li>Machine Learning in Python - Udemy\\r\\n      <li>Deep Learning Specialization- Coursera <a href=\"https://coursera.org/share/3203641f8de561e0863add4cc0e88aff\" target=\"_blank\" class=\"w3-hover-text-green\">(Z9RR3D5655UL)</a>\\r\\n    </ul>\\r\\n    </span>\\r\\n\\r\\n    <h3 class=\"w3-padding-16 w3-text-light-grey\">Groups & Organisations</h3>\\r\\n    <img src=\"images\\\\sds.png\" alt=\"Avatar\" class=\"w3-left w3-circle w3-margin-right\" style=\"width:80px\">\\r\\n    <p><span class=\"w3-large w3-margin-right\"><b>Freelance Member</b></span> Dec 2019 – Present.</br>\\r\\n    <span class=\"w3-large w3-margin-right\">SuperDataScience</span></p>\\r\\n    <p>Freelancer ML-DL Project Researcher.</p><br>\\r\\n    <img src=\"images\\\\kr.png\" alt=\"Avatar\" class=\"w3-left w3-circle w3-margin-right\" style=\"width:80px\">\\r\\n    <p><span class=\"w3-large w3-margin-right\"><b>Member</b></span> Oct 2017 – Present.</br>\\r\\n    <span class=\"w3-large w3-margin-right\">Koderunners</span></p>\\r\\n    <p>Competitive Coding Group: C++, Python</p><br>\\r\\n  </div>\\r\\n  <!-- End Experience Section -->\\r\\n  \\r\\n  <!-- Projects Section -->\\r\\n  <div class=\"w3-padding-64 w3-content w3-text-grey w3-animate-left\" id=\"projects\">\\r\\n    <h2 class=\"w3-text-light-grey\">Projects</h2>\\r\\n    <hr style=\"width:200px\" class=\"w3-opacity\"></br></br>\\r\\n    <img src=\"images\\\\chatbot.jpg\" alt=\"Avatar\" class=\"w3-left w3-circle w3-margin-right\" style=\"width:80px\">\\r\\n    <p><span class=\"w3-large w3-margin-right\"><b>CovidBot</b></span> May 2020 – Present.</p>\\r\\n    <p>A Simple Static Bot/Agent which will act as a guide for self assessment of probable risks from corona virus and increase awareness about the pandemic.\\r\\n    <!--<br>Technologies Being Used : Data Mining, Machine Learning, Full Stack Development, Flutter</p><br>-->\\r\\n    <p class=\"w3-medium\"><a href=\"https://github.com/rahulbordoloi/CovidBot.git\" target=\"_blank\" class=\"w3-hover-text-green\">Project Link</a></p><br>\\r\\n\\r\\n    <img src=\"images\\\\kiit.jpg\" alt=\"Avatar\" class=\"w3-left w3-circle w3-margin-right\" style=\"width:80px\">\\r\\n    <p><span class=\"w3-large w3-margin-right\"><b>Enhanced Analytic System for Smart University Assistance</b></span> Jan 2020 – Present.</p>\\r\\n    <p>An Ongoing Project, a part of the Academic Minor Project of the 6th semester.<br>This project aims to ease the daily routine queries and difficulties faced by students new to the KIIT campus. It would ensure the prediction of the professions that can be pursued by young aspiring engineering students after completion of the course. Also, it would help the college authorities to automate the counselling process [branch selection] with ease.\\r\\n    <br>Technologies Being Used : Data Mining, Machine Learning, Full Stack Development, Flutter</p><br>\\r\\n\\r\\n    <img src=\"images\\\\dl.png\" alt=\"Avatar\" class=\"w3-left w3-circle w3-margin-right\" style=\"width:80px\">\\r\\n    <p><span class=\"w3-large w3-margin-right\"><b>CIFAR 10 Images Classification</b></span> Mar 2020 – Apr 2020</p>\\r\\n    <p>A Basic Deep Learning Project using CNN.<br>1> CIFAR-10 is a dataset that consists of several images divided into the following 10 classes: Airplanes, Cars, Birds, Cats, Deer, Dogs, Frogs, Horses, Ships, Trucks.<br>2> The dataset consists of 60,000 32x32 color images and 6,000 images of each class.<br>\\r\\n3> The Images have low resolution (32x32).<br>To Predict : The Type/Class of Image Provided.\\r\\n<br>\\r\\n<p class=\"w3-medium\"><a href=\"https://github.com/rahulbordoloi/CiFAR-10-Images-Classification.git\" target=\"_blank\" class=\"w3-hover-text-green\">Project Link</a></p><br>\\r\\n\\r\\n    <img src=\"images\\\\ml.png\" alt=\"Avatar\" class=\"w3-left w3-circle w3-margin-right\" style=\"width:80px\">\\r\\n    <p><span class=\"w3-large w3-margin-right\"><b>Classifying YELP Reviews</b></span> Apr 2020</p>\\r\\n    <p>A Basic Machine Learning Project using NLP.</br> \\r\\n    In this project, Natural Language Processing (NLP) strategies will be used to analyze Yelp reviews data. Yelp is a similar platform as that of Google Reviews.\\r\\n</br>To Predict : If the customer is satisfied/happy with the services or not.\\r\\n    <p class=\"w3-medium\"><a href=\"https://github.com/rahulbordoloi/Classifying-YELP-Reviews-using-NLP.git\" target=\"_blank\" class=\"w3-hover-text-green\">Project Link</a></p><br>\\r\\n\\r\\n    <img src=\"images\\\\ml.png\" alt=\"Avatar\" class=\"w3-left w3-circle w3-margin-right\" style=\"width:80px\">\\r\\n    <p><span class=\"w3-large w3-margin-right\"><b>Email/Message Spam Classifier</b></span> Apr 2020</p>\\r\\n    <p>A Basic Machine Learning using Naive Bayes\\' Algorithm (NLP)</br>\\r\\nThe SMS Spam Collection is a set of SMS tagged messages that have been collected for SMS Spam research. It contains one set of SMS messages in English of 5,574 messages, tagged according being ham (legitimate) or spam.\\r\\n</br>To Predict: If an email/message is spam or ham.</p>\\r\\n    <p class=\"w3-medium\"><a href=\"https://github.com/rahulbordoloi/Spam-Classifier-using-Naive-Bayes.git\" target=\"_blank\" class=\"w3-hover-text-green\">Project Link</a></p><br>\\r\\n \\r\\n    <img src=\"images\\\\ml.png\" alt=\"Avatar\" class=\"w3-left w3-circle w3-margin-right\" style=\"width:80px\">\\r\\n    <p><span class=\"w3-large w3-margin-right\"><b>Movie Recommender System</b></span> Apr 2020</p>\\r\\n    <p>Implementing a Simple Movie Recommender System using Item-Based Collaborative Filtering</br>\\r\\nRecommender systems are used to suggest movies or songs to users based on their interest or usage history.\\r\\n</br>To Predict : Recommend Movies based on User\\'s recently watched Movies\\' Ratings.</p>\\r\\n    <p class=\"w3-medium\"><a href=\"https://github.com/rahulbordoloi/Simple-Movie-Recommender-System.git\" target=\"_blank\" class=\"w3-hover-text-green\">Project Link</a></p><br>\\r\\n\\r\\n    <img src=\"images\\\\ml.png\" alt=\"Avatar\" class=\"w3-left w3-circle w3-margin-right\" style=\"width:80px\">\\r\\n    <p><span class=\"w3-large w3-margin-right\"><b>Avocado Prices Prediction [Using Facebook Prophet]</b></span> Mar 2020</p>\\r\\n    <p>A Simple Machine Learning Project using Facebook Prophet Forecasting</br>\\r\\n1> Data represents weekly 2018 retail scan data for National retail volume (units) and price.<br>\\r\\n2> Retail scan data comes directly from retailers’ cash registers based on actual retail sales of Hass avocados.\\r\\n</br>To Predict : Price of Avocado over a certain period along with its trends and bounds.</p>\\r\\n    <p class=\"w3-medium\"><a href=\"https://github.com/rahulbordoloi/Avocado-Prices-Prediction-using-Facebook-Prophet-.git\" target=\"_blank\" class=\"w3-hover-text-green\">Project Link</a></p><br>\\r\\n\\r\\n    <img src=\"images\\\\dl.png\" alt=\"Avatar\" class=\"w3-left w3-circle w3-margin-right\" style=\"width:80px\">\\r\\n    <p><span class=\"w3-large w3-margin-right\"><b>Car Purchase Amount Prediction</b></span> Mar 2020</p>\\r\\n    <p>A Basic Deep Learning Project using Artificial Neural Network.</br>\\r\\nWe are working as a car salesman and we would like to develop a model to predict the total dollar amount that customers are willing to pay given some features.\\r\\n</br>To Predict : Car Purchase Amount</p>\\r\\n    <p class=\"w3-medium\"><a href=\"https://github.com/rahulbordoloi/Car-Purchase-Amount-Predictions-using-ANN.git\" target=\"_blank\" class=\"w3-hover-text-green\">Project Link</a></p><br>\\r\\n\\r\\n    <img src=\"images\\\\ml.png\" alt=\"Avatar\" class=\"w3-left w3-circle w3-margin-right\" style=\"width:80px\">\\r\\n    <p><span class=\"w3-large w3-margin-right\"><b>Predicting Crime Rate in Chicago</b></span> Mar 2020</p>\\r\\n    <p>A Simple Machine Learning Project using Facebook Prophet Forecasting.</br>\\r\\nThe Chicago Crime dataset contains a summary of the reported crimes occurred in the City of Chicago from 2001 to 2017.\\r\\n</br>To Predict : Future Crime Rate over a certain period along with its trends and bounds.</p>\\r\\n<p class=\"w3-medium\"><a href=\"https://github.com/rahulbordoloi/Predict-Crime-Rate-in-Chicago.git\" target=\"_blank\" class=\"w3-hover-text-green\">Project Link</a></p><br>\\r\\n\\r\\n    <img src=\"images\\\\dl.png\" alt=\"Avatar\" class=\"w3-left w3-circle w3-margin-right\" style=\"width:80px\">\\r\\n    <p><span class=\"w3-large w3-margin-right\"><b>Traffic Sign Classification</b></span> Mar 2020</p>\\r\\n    <p>A Basic Deep Learning Project using Keras as Tensorflow Backend.</br>\\r\\nThis Simple Project is the foundation of Self-Driving Cars.\\r\\nIn this Project, we have been provided with images of traffic signs and the goal is to train a Deep Network to classify them. The Network used is called Le-Net Network which is a part of Convolutional Neural Networks. \\r\\n</br>To Predict : The Type/Class of Traffic Sign Provided</p>\\r\\n<p class=\"w3-medium\"><a href=\"https://github.com/rahulbordoloi/Traffic-Sign-Classification-Using-LeNet-Network.git\" target=\"_blank\" class=\"w3-hover-text-green\">Project Link</a></p><br>\\r\\n\\r\\n<img src=\"images\\\\ssa.png\" alt=\"Avatar\" class=\"w3-left w3-circle w3-margin-right\" style=\"width:80px\">\\r\\n <p><span class=\"w3-large w3-margin-right\"><b>Railway Reservation System</b></span> Dec 2016 - Feb 2017</p>\\r\\n<p>Automation of Railway Reservation System using C++.</br>\\r\\nA Project Report Submitted To The Department of Computer Science, Shrimanta Shankar Academy, Dispur For The Partial Fulfillment of AISSCE 2016-17 In Science Stream.</p>\\r\\n<p class=\"w3-medium\"><a href=\"https://github.com/rahulbordoloi/Railway-Reservation-System.git\" target=\"_blank\" class=\"w3-hover-text-green\">Project Link</a></p><br>\\r\\n  </div>\\r\\n  <!-- End Projects Section -->\\r\\n\\r\\n  <!-- Blog Section -->\\r\\n  <div class=\"w3-padding-64 w3-content w3-text-grey w3-animate-left\" id=\"blog\">\\r\\n    <h2 class=\"w3-text-light-grey\">Blog</h2>\\r\\n    <hr style=\"width:200px\" class=\"w3-opacity\">\\r\\n    <p>No Blogs Yet ...</p>\\r\\n  </div>\\r\\n  <!-- End Blog Section -->\\r\\n\\r\\n  <!-- Contact Section -->\\r\\n  <div class=\"w3-padding-64 w3-content w3-text-grey w3-animate-left\" id=\"contact\">\\r\\n    <h2 class=\"w3-text-light-grey\">Contact Me</h2>\\r\\n    <hr style=\"width:200px\" class=\"w3-opacity\">\\r\\n    <div class=\"w3-section\">\\r\\n      <p><i class=\"fa fa-map-marker fa-fw w3-text-white w3-xlarge w3-margin-right\"></i>Guwahati, India</p>\\r\\n      <p><i class=\"fa fa-phone fa-fw w3-text-white w3-xlarge w3-margin-right\"></i> Phone: +91 9864887529</p>\\r\\n      <p><i class=\"fa fa-envelope fa-fw w3-text-white w3-xlarge w3-margin-right\"> </i> Primary Email: rahulbordoloi24@gmail.com</p>\\r\\n      <p><i class=\"fa fa-envelope fa-fw w3-text-white w3-xlarge w3-margin-right\"> </i> Secondary Email: 1729048@kiit.ac.in</p>\\r\\n    </div><br>\\r\\n    <h4 class=\"w3-text-light-grey\">My Professional Profiles:</h4>\\r\\n  <ul>\\r\\n    <li><p class=\"w3-medium\">Linkedin :       <a href=\"https://www.linkedin.com/in/rahulbordoloi/\"><i class=\"fa fa-linkedin w3-hover-opacity w3-xlarge\"></i></a></li>\\r\\n    <li><p class=\"w3-medium\">Github :      <a href=\"https://github.com/rahulbordoloi\"><i class=\"fa fa-github w3-hover-opacity w3-xlarge\"></i></a></li>\\r\\n    <li><p class=\"w3-medium\">Telegram :      <a href=\"https://t.me/rahulbordoloi\"><i class=\"fa fa-telegram w3-hover-opacity w3-xlarge\"></i></a></li>\\r\\n  </ul>\\r\\n  </div>\\r\\n  <!-- End Contact Section -->\\r\\n  <center class=\\'w3-hover-text-green\\'><br><h3>Thanks for visiting my website!</h3></center>\\r\\n\\r\\n\\r\\n<!-- END PAGE CONTENT -->\\r\\n</div>\\r\\n<!-- Footer -->\\r\\n  <footer class=\"w3-content w3-padding-64 w3-text-grey w3-xlarge\">\\r\\n  <center>\\r\\n    <a href=\"#\" class=\"w3-button w3-light-grey\"><i class=\"fa fa-arrow-up w3-margin-right\"></i>To the top</a>\\r\\n    <p class=\"w3-medium\">Designed by <a href=\"https://rahulbordoloi.github.io\" target=\"_blank\" class=\"w3-hover-text-green\">Rahul Bordoloi</a></p>\\r\\n    <p class=\"w3-medium\">Reference From <a href=\"https://www.w3schools.com/w3css/default.asp\" target=\"_blank\" class=\"w3-hover-text-green\">w3.css</a></p>\\r\\n  <!-- End footer -->\\r\\n  </center>\\r\\n  </footer>\\r\\n\\r\\n</body>\\r\\n</html>\\r\\n\\r\\n'"
            ]
          },
          "metadata": {
            "tags": []
          },
          "execution_count": 13
        }
      ]
    }
  ]
}
