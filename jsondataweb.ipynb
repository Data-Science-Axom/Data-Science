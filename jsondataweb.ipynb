{
  "nbformat": 4,
  "nbformat_minor": 0,
  "metadata": {
    "colab": {
      "name": "jsondataweb.ipynb",
      "provenance": [],
      "collapsed_sections": []
    },
    "kernelspec": {
      "name": "python3",
      "display_name": "Python 3"
    }
  },
  "cells": [
    {
      "cell_type": "markdown",
      "metadata": {
        "id": "pDwMJfU8MxpJ",
        "colab_type": "text"
      },
      "source": [
        "# Interacting with APIs to import data from the Web"
      ]
    },
    {
      "cell_type": "code",
      "metadata": {
        "id": "zU0pSfVeMwy4",
        "colab_type": "code",
        "colab": {}
      },
      "source": [
        "import json\n",
        "import requests"
      ],
      "execution_count": 0,
      "outputs": []
    },
    {
      "cell_type": "code",
      "metadata": {
        "id": "UupxmPODM1_t",
        "colab_type": "code",
        "colab": {}
      },
      "source": [
        "url = 'http://www.omdbapi.com/?t=hackers'\n",
        "r = requests.get(url)\n",
        "json_data = r.json()                          # decode the json data into a dictionary"
      ],
      "execution_count": 0,
      "outputs": []
    },
    {
      "cell_type": "code",
      "metadata": {
        "id": "5B2HH_d-NoIN",
        "colab_type": "code",
        "colab": {}
      },
      "source": [
        "json_data"
      ],
      "execution_count": 0,
      "outputs": []
    },
    {
      "cell_type": "code",
      "metadata": {
        "id": "Urf1Lf18NIWH",
        "colab_type": "code",
        "colab": {}
      },
      "source": [
        "url = 'http://www.omdbapi.com/?apikey=72bc447a&t=the+social+network'\n",
        "r = requests.get(url)\n",
        "print(r.text)"
      ],
      "execution_count": 0,
      "outputs": []
    }
  ]
}